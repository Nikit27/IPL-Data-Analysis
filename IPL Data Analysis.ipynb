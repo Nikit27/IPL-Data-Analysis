{
 "cells": [
  {
   "cell_type": "markdown",
   "id": "8f4c0bc1",
   "metadata": {},
   "source": [
    "# Importing Required Libraries "
   ]
  },
  {
   "cell_type": "code",
   "execution_count": 1,
   "id": "da046bda",
   "metadata": {},
   "outputs": [],
   "source": [
    "import pandas as pd\n",
    "import numpy as np\n",
    "import matplotlib.pyplot as plt\n",
    "%matplotlib inline"
   ]
  },
  {
   "cell_type": "markdown",
   "id": "008c86a4",
   "metadata": {},
   "source": [
    "# Importing Dataset "
   ]
  },
  {
   "cell_type": "code",
   "execution_count": 2,
   "id": "ee1fee1d",
   "metadata": {},
   "outputs": [
    {
     "data": {
      "text/html": [
       "<div>\n",
       "<style scoped>\n",
       "    .dataframe tbody tr th:only-of-type {\n",
       "        vertical-align: middle;\n",
       "    }\n",
       "\n",
       "    .dataframe tbody tr th {\n",
       "        vertical-align: top;\n",
       "    }\n",
       "\n",
       "    .dataframe thead th {\n",
       "        text-align: right;\n",
       "    }\n",
       "</style>\n",
       "<table border=\"1\" class=\"dataframe\">\n",
       "  <thead>\n",
       "    <tr style=\"text-align: right;\">\n",
       "      <th></th>\n",
       "      <th>id</th>\n",
       "      <th>season</th>\n",
       "      <th>city</th>\n",
       "      <th>date</th>\n",
       "      <th>team1</th>\n",
       "      <th>team2</th>\n",
       "      <th>toss_winner</th>\n",
       "      <th>toss_decision</th>\n",
       "      <th>result</th>\n",
       "      <th>dl_applied</th>\n",
       "      <th>winner</th>\n",
       "      <th>win_by_runs</th>\n",
       "      <th>win_by_wickets</th>\n",
       "      <th>player_of_match</th>\n",
       "      <th>venue</th>\n",
       "      <th>umpire1</th>\n",
       "      <th>umpire2</th>\n",
       "      <th>umpire3</th>\n",
       "    </tr>\n",
       "  </thead>\n",
       "  <tbody>\n",
       "    <tr>\n",
       "      <th>0</th>\n",
       "      <td>1</td>\n",
       "      <td>2017</td>\n",
       "      <td>Hyderabad</td>\n",
       "      <td>2017-04-05</td>\n",
       "      <td>Sunrisers Hyderabad</td>\n",
       "      <td>Royal Challengers Bangalore</td>\n",
       "      <td>Royal Challengers Bangalore</td>\n",
       "      <td>field</td>\n",
       "      <td>normal</td>\n",
       "      <td>0</td>\n",
       "      <td>Sunrisers Hyderabad</td>\n",
       "      <td>35</td>\n",
       "      <td>0</td>\n",
       "      <td>Yuvraj Singh</td>\n",
       "      <td>Rajiv Gandhi International Stadium, Uppal</td>\n",
       "      <td>AY Dandekar</td>\n",
       "      <td>NJ Llong</td>\n",
       "      <td>NaN</td>\n",
       "    </tr>\n",
       "    <tr>\n",
       "      <th>1</th>\n",
       "      <td>2</td>\n",
       "      <td>2017</td>\n",
       "      <td>Pune</td>\n",
       "      <td>2017-04-06</td>\n",
       "      <td>Mumbai Indians</td>\n",
       "      <td>Rising Pune Supergiant</td>\n",
       "      <td>Rising Pune Supergiant</td>\n",
       "      <td>field</td>\n",
       "      <td>normal</td>\n",
       "      <td>0</td>\n",
       "      <td>Rising Pune Supergiant</td>\n",
       "      <td>0</td>\n",
       "      <td>7</td>\n",
       "      <td>SPD Smith</td>\n",
       "      <td>Maharashtra Cricket Association Stadium</td>\n",
       "      <td>A Nand Kishore</td>\n",
       "      <td>S Ravi</td>\n",
       "      <td>NaN</td>\n",
       "    </tr>\n",
       "    <tr>\n",
       "      <th>2</th>\n",
       "      <td>3</td>\n",
       "      <td>2017</td>\n",
       "      <td>Rajkot</td>\n",
       "      <td>2017-04-07</td>\n",
       "      <td>Gujarat Lions</td>\n",
       "      <td>Kolkata Knight Riders</td>\n",
       "      <td>Kolkata Knight Riders</td>\n",
       "      <td>field</td>\n",
       "      <td>normal</td>\n",
       "      <td>0</td>\n",
       "      <td>Kolkata Knight Riders</td>\n",
       "      <td>0</td>\n",
       "      <td>10</td>\n",
       "      <td>CA Lynn</td>\n",
       "      <td>Saurashtra Cricket Association Stadium</td>\n",
       "      <td>Nitin Menon</td>\n",
       "      <td>CK Nandan</td>\n",
       "      <td>NaN</td>\n",
       "    </tr>\n",
       "    <tr>\n",
       "      <th>3</th>\n",
       "      <td>4</td>\n",
       "      <td>2017</td>\n",
       "      <td>Indore</td>\n",
       "      <td>2017-04-08</td>\n",
       "      <td>Rising Pune Supergiant</td>\n",
       "      <td>Kings XI Punjab</td>\n",
       "      <td>Kings XI Punjab</td>\n",
       "      <td>field</td>\n",
       "      <td>normal</td>\n",
       "      <td>0</td>\n",
       "      <td>Kings XI Punjab</td>\n",
       "      <td>0</td>\n",
       "      <td>6</td>\n",
       "      <td>GJ Maxwell</td>\n",
       "      <td>Holkar Cricket Stadium</td>\n",
       "      <td>AK Chaudhary</td>\n",
       "      <td>C Shamshuddin</td>\n",
       "      <td>NaN</td>\n",
       "    </tr>\n",
       "    <tr>\n",
       "      <th>4</th>\n",
       "      <td>5</td>\n",
       "      <td>2017</td>\n",
       "      <td>Bangalore</td>\n",
       "      <td>2017-04-08</td>\n",
       "      <td>Royal Challengers Bangalore</td>\n",
       "      <td>Delhi Daredevils</td>\n",
       "      <td>Royal Challengers Bangalore</td>\n",
       "      <td>bat</td>\n",
       "      <td>normal</td>\n",
       "      <td>0</td>\n",
       "      <td>Royal Challengers Bangalore</td>\n",
       "      <td>15</td>\n",
       "      <td>0</td>\n",
       "      <td>KM Jadhav</td>\n",
       "      <td>M Chinnaswamy Stadium</td>\n",
       "      <td>NaN</td>\n",
       "      <td>NaN</td>\n",
       "      <td>NaN</td>\n",
       "    </tr>\n",
       "  </tbody>\n",
       "</table>\n",
       "</div>"
      ],
      "text/plain": [
       "   id  season       city        date                        team1  \\\n",
       "0   1    2017  Hyderabad  2017-04-05          Sunrisers Hyderabad   \n",
       "1   2    2017       Pune  2017-04-06               Mumbai Indians   \n",
       "2   3    2017     Rajkot  2017-04-07                Gujarat Lions   \n",
       "3   4    2017     Indore  2017-04-08       Rising Pune Supergiant   \n",
       "4   5    2017  Bangalore  2017-04-08  Royal Challengers Bangalore   \n",
       "\n",
       "                         team2                  toss_winner toss_decision  \\\n",
       "0  Royal Challengers Bangalore  Royal Challengers Bangalore         field   \n",
       "1       Rising Pune Supergiant       Rising Pune Supergiant         field   \n",
       "2        Kolkata Knight Riders        Kolkata Knight Riders         field   \n",
       "3              Kings XI Punjab              Kings XI Punjab         field   \n",
       "4             Delhi Daredevils  Royal Challengers Bangalore           bat   \n",
       "\n",
       "   result  dl_applied                       winner  win_by_runs  \\\n",
       "0  normal           0          Sunrisers Hyderabad           35   \n",
       "1  normal           0       Rising Pune Supergiant            0   \n",
       "2  normal           0        Kolkata Knight Riders            0   \n",
       "3  normal           0              Kings XI Punjab            0   \n",
       "4  normal           0  Royal Challengers Bangalore           15   \n",
       "\n",
       "   win_by_wickets player_of_match                                      venue  \\\n",
       "0               0    Yuvraj Singh  Rajiv Gandhi International Stadium, Uppal   \n",
       "1               7       SPD Smith    Maharashtra Cricket Association Stadium   \n",
       "2              10         CA Lynn     Saurashtra Cricket Association Stadium   \n",
       "3               6      GJ Maxwell                     Holkar Cricket Stadium   \n",
       "4               0       KM Jadhav                      M Chinnaswamy Stadium   \n",
       "\n",
       "          umpire1        umpire2  umpire3  \n",
       "0     AY Dandekar       NJ Llong      NaN  \n",
       "1  A Nand Kishore         S Ravi      NaN  \n",
       "2     Nitin Menon      CK Nandan      NaN  \n",
       "3    AK Chaudhary  C Shamshuddin      NaN  \n",
       "4             NaN            NaN      NaN  "
      ]
     },
     "execution_count": 2,
     "metadata": {},
     "output_type": "execute_result"
    }
   ],
   "source": [
    "match=pd.read_csv(\"matches.csv\")\n",
    "delivery=pd.read_csv(\"deliveries.csv\")\n",
    "match.head()"
   ]
  },
  {
   "cell_type": "markdown",
   "id": "7b21c053",
   "metadata": {},
   "source": [
    "#  Basic information regarding dataset :"
   ]
  },
  {
   "cell_type": "code",
   "execution_count": 3,
   "id": "a5bce77d",
   "metadata": {},
   "outputs": [
    {
     "name": "stdout",
     "output_type": "stream",
     "text": [
      "<class 'pandas.core.frame.DataFrame'>\n",
      "RangeIndex: 636 entries, 0 to 635\n",
      "Data columns (total 18 columns):\n",
      " #   Column           Non-Null Count  Dtype  \n",
      "---  ------           --------------  -----  \n",
      " 0   id               636 non-null    int64  \n",
      " 1   season           636 non-null    int64  \n",
      " 2   city             629 non-null    object \n",
      " 3   date             636 non-null    object \n",
      " 4   team1            636 non-null    object \n",
      " 5   team2            636 non-null    object \n",
      " 6   toss_winner      636 non-null    object \n",
      " 7   toss_decision    636 non-null    object \n",
      " 8   result           636 non-null    object \n",
      " 9   dl_applied       636 non-null    int64  \n",
      " 10  winner           633 non-null    object \n",
      " 11  win_by_runs      636 non-null    int64  \n",
      " 12  win_by_wickets   636 non-null    int64  \n",
      " 13  player_of_match  633 non-null    object \n",
      " 14  venue            636 non-null    object \n",
      " 15  umpire1          635 non-null    object \n",
      " 16  umpire2          635 non-null    object \n",
      " 17  umpire3          0 non-null      float64\n",
      "dtypes: float64(1), int64(5), object(12)\n",
      "memory usage: 89.6+ KB\n"
     ]
    }
   ],
   "source": [
    "match.info()"
   ]
  },
  {
   "cell_type": "markdown",
   "id": "301db075",
   "metadata": {},
   "source": [
    "#  Top 5 IPL Venue's"
   ]
  },
  {
   "cell_type": "code",
   "execution_count": 4,
   "id": "01f2f04e",
   "metadata": {},
   "outputs": [
    {
     "data": {
      "text/plain": [
       "([<matplotlib.patches.Wedge at 0x1d65ffd0b20>,\n",
       "  <matplotlib.patches.Wedge at 0x1d65ffd1390>,\n",
       "  <matplotlib.patches.Wedge at 0x1d65ffd1d20>,\n",
       "  <matplotlib.patches.Wedge at 0x1d65ffd26b0>,\n",
       "  <matplotlib.patches.Wedge at 0x1d65ffd3040>],\n",
       " [Text(0.8358718188463707, 0.7150652434977246, 'M Chinnaswamy Stadium'),\n",
       "  Text(-0.5259971290480735, 0.9660885157340318, 'Eden Gardens'),\n",
       "  Text(-1.0722329401320212, -0.24559422243986448, 'Feroz Shah Kotla'),\n",
       "  Text(-0.10011355408414094, -1.0954347430534792, 'Wankhede Stadium'),\n",
       "  Text(0.9516435094606261, -0.5517015777587222, 'Rajiv Gandhi International Stadium, Uppal')],\n",
       " [Text(0.45593008300711124, 0.39003558736239524, '22.5%'),\n",
       "  Text(-0.2869075249353128, 0.5269573722185628, '20.8%'),\n",
       "  Text(-0.5848543309811024, -0.13396048496719878, '20.5%'),\n",
       "  Text(-0.05460739313680415, -0.5975098598473523, '19.5%'),\n",
       "  Text(0.5190782778876142, -0.3009281333229394, '16.7%')])"
      ]
     },
     "execution_count": 4,
     "metadata": {},
     "output_type": "execute_result"
    },
    {
     "data": {
      "image/png": "[encoded data removed]",
      "text/plain": [
       "<Figure size 432x288 with 1 Axes>"
      ]
     },
     "metadata": {},
     "output_type": "display_data"
    }
   ],
   "source": [
    "plt.style.use('fast')\n",
    "top5_venue=match['venue'].value_counts().head()\n",
    "\n",
    "venue=top5_venue.index.tolist()\n",
    "\n",
    "plt.pie(top5_venue.values,labels=venue,shadow=True,autopct=\"%.1f%%\",wedgeprops={\"edgecolor\":\"black\"})\n"
   ]
  },
  {
   "cell_type": "markdown",
   "id": "3199cbdd",
   "metadata": {},
   "source": [
    "#  Toss Decisions"
   ]
  },
  {
   "cell_type": "code",
   "execution_count": 6,
   "id": "41cd333f",
   "metadata": {},
   "outputs": [
    {
     "data": {
      "text/plain": [
       "([<matplotlib.patches.Wedge at 0x1d66216fb80>,\n",
       "  <matplotlib.patches.Wedge at 0x1d662170550>],\n",
       " [Text(-0.24250215735914527, 1.072936486319745, 'Fielding'),\n",
       "  Text(0.24250215735914535, -1.072936486319745, 'Batting')],\n",
       " [Text(-0.1322739040140792, 0.5852380834471336, '57.1%'),\n",
       "  Text(0.13227390401407926, -0.5852380834471336, '42.9%')])"
      ]
     },
     "execution_count": 6,
     "metadata": {},
     "output_type": "execute_result"
    },
    {
     "data": {
      "image/png": "[encoded data removed]",
      "text/plain": [
       "<Figure size 432x288 with 1 Axes>"
      ]
     },
     "metadata": {},
     "output_type": "display_data"
    }
   ],
   "source": [
    "toss_deci=match['toss_decision'].value_counts()\n",
    "plt.pie(toss_deci.values,labels=[\"Fielding\",\"Batting\"],shadow=True,autopct=\"%.1f%%\",wedgeprops={\"edgecolor\":\"black\"})"
   ]
  },
  {
   "cell_type": "markdown",
   "id": "18b2b308",
   "metadata": {},
   "source": [
    "#  Conclusion:\n",
    "There is a high chance that winner of toss will choose fielding over batting\n"
   ]
  },
  {
   "cell_type": "markdown",
   "id": "7d2d75d8",
   "metadata": {},
   "source": [
    "# Toss decision VS Stadium \n",
    "A Fucntion that will give idea about decision taken by toss winner in perticular stadium.\n",
    "\n",
    "Enter Stadium name it will give pie chart crossponding to decision taken by winner"
   ]
  },
  {
   "cell_type": "code",
   "execution_count": 7,
   "id": "bff03edb",
   "metadata": {},
   "outputs": [],
   "source": [
    "plt.style.use(\"fast\")\n",
    "def Toss_analysis(Stname):\n",
    "    res=match[match['venue']==Stname]['toss_decision'].value_counts()\n",
    "    plt.pie(res.values,labels=[\"Fielding\",\"Batting\"],shadow=True,autopct=\"%.1f%%\",wedgeprops={\"edgecolor\":\"black\"})\n"
   ]
  },
  {
   "cell_type": "code",
   "execution_count": 8,
   "id": "7cad5a89",
   "metadata": {},
   "outputs": [
    {
     "data": {
      "image/png": "[encoded data removed]",
      "text/plain": [
       "<Figure size 432x288 with 1 Axes>"
      ]
     },
     "metadata": {},
     "output_type": "display_data"
    }
   ],
   "source": [
    "Toss_analysis('M Chinnaswamy Stadium')"
   ]
  },
  {
   "cell_type": "markdown",
   "id": "7133962b",
   "metadata": {},
   "source": [
    "#  Conclusion :\n",
    "Fielding is prefferd in Chinnaswamy stadium "
   ]
  },
  {
   "cell_type": "markdown",
   "id": "9477b3a5",
   "metadata": {},
   "source": [
    "#  Comparision Between Teams:\n",
    "A Fuction that will give insights about the results when two given teams played with each other"
   ]
  },
  {
   "cell_type": "code",
   "execution_count": 9,
   "id": "4bccda9d",
   "metadata": {},
   "outputs": [],
   "source": [
    "def Comparision(tean1,tean2):\n",
    "    \n",
    "    c1=match['team1']==tean1\n",
    "    c2=match['team2']==tean2\n",
    "    c3=match['team1']==tean2\n",
    "    c4=match['team2']==tean1\n",
    "\n",
    "    result=match[c1&c2 | c3&c4 ]['winner'].value_counts()\n",
    "    \n",
    "    \n",
    "\n",
    "    plt.pie(result.values,labels=[tean1,tean2],shadow=True,autopct=\"%.1f%%\",wedgeprops={\"edgecolor\":\"black\"})\n",
    "    \n",
    "\n",
    "\n"
   ]
  },
  {
   "cell_type": "code",
   "execution_count": 194,
   "id": "a29d1ddb",
   "metadata": {},
   "outputs": [
    {
     "data": {
      "image/png": "[encoded data removed]",
      "text/plain": [
       "<Figure size 432x288 with 1 Axes>"
      ]
     },
     "metadata": {},
     "output_type": "display_data"
    }
   ],
   "source": [
    "Comparision(\"Kings XI Punjab\",\"Rajasthan Royals\")\n",
    "\n"
   ]
  },
  {
   "cell_type": "markdown",
   "id": "f8de6b46",
   "metadata": {},
   "source": [
    "#  Man of the Match (Top 5)"
   ]
  },
  {
   "cell_type": "code",
   "execution_count": 10,
   "id": "13d06b3f",
   "metadata": {},
   "outputs": [
    {
     "data": {
      "text/plain": [
       "Text(0.5, 1.0, 'No.of man of the match awards')"
      ]
     },
     "execution_count": 10,
     "metadata": {},
     "output_type": "execute_result"
    },
    {
     "data": {
      "image/png": "[encoded data removed]",
      "text/plain": [
       "<Figure size 432x288 with 1 Axes>"
      ]
     },
     "metadata": {},
     "output_type": "display_data"
    }
   ],
   "source": [
    "plt.style.use('fivethirtyeight')\n",
    "pom=match['player_of_match'].value_counts().sort_values(ascending=False).head(5)\n",
    "plt.bar(pom.index,pom.values)\n",
    "plt.title(\"No.of man of the match awards\")"
   ]
  },
  {
   "cell_type": "markdown",
   "id": "dc97b981",
   "metadata": {},
   "source": [
    "# Conclusion:\n",
    "Chris gayle has won maximum Man of the Match awards\n",
    "\n",
    "Yusuf pathan did exceptionally well when it comes to Man of the match awards\n"
   ]
  },
  {
   "cell_type": "markdown",
   "id": "3df9278b",
   "metadata": {},
   "source": [
    "# Histogram for win by runs:\n",
    "\n",
    "Created a histogram for win by runs"
   ]
  },
  {
   "cell_type": "code",
   "execution_count": 11,
   "id": "2f4cd206",
   "metadata": {},
   "outputs": [
    {
     "data": {
      "text/plain": [
       "(array([408.,  67.,  56.,  32.,  25.,   8.,  10.,   6.,  11.,   5.,   2.,\n",
       "          1.,   0.,   1.,   4.]),\n",
       " array([  0.        ,   9.73333333,  19.46666667,  29.2       ,\n",
       "         38.93333333,  48.66666667,  58.4       ,  68.13333333,\n",
       "         77.86666667,  87.6       ,  97.33333333, 107.06666667,\n",
       "        116.8       , 126.53333333, 136.26666667, 146.        ]),\n",
       " <BarContainer object of 15 artists>)"
      ]
     },
     "execution_count": 11,
     "metadata": {},
     "output_type": "execute_result"
    },
    {
     "data": {
      "image/png": "[encoded data removed]",
      "text/plain": [
       "<Figure size 432x288 with 1 Axes>"
      ]
     },
     "metadata": {},
     "output_type": "display_data"
    }
   ],
   "source": [
    "plt.style.use('fivethirtyeight')\n",
    "plt.hist(match['win_by_runs'],bins=15,edgecolor='black')"
   ]
  },
  {
   "cell_type": "markdown",
   "id": "8b68f801",
   "metadata": {},
   "source": [
    "#  Conclusion\n",
    "Most of the matches are won by under 15 runs\n",
    "\n",
    "In very few matches team won by more than 50 runs"
   ]
  },
  {
   "cell_type": "markdown",
   "id": "971ac339",
   "metadata": {},
   "source": [
    "# Winning Team of every Season "
   ]
  },
  {
   "cell_type": "code",
   "execution_count": 12,
   "id": "f4e6c89c",
   "metadata": {},
   "outputs": [
    {
     "data": {
      "text/html": [
       "<div>\n",
       "<style scoped>\n",
       "    .dataframe tbody tr th:only-of-type {\n",
       "        vertical-align: middle;\n",
       "    }\n",
       "\n",
       "    .dataframe tbody tr th {\n",
       "        vertical-align: top;\n",
       "    }\n",
       "\n",
       "    .dataframe thead th {\n",
       "        text-align: right;\n",
       "    }\n",
       "</style>\n",
       "<table border=\"1\" class=\"dataframe\">\n",
       "  <thead>\n",
       "    <tr style=\"text-align: right;\">\n",
       "      <th></th>\n",
       "      <th>season</th>\n",
       "      <th>winner</th>\n",
       "    </tr>\n",
       "  </thead>\n",
       "  <tbody>\n",
       "    <tr>\n",
       "      <th>116</th>\n",
       "      <td>2008</td>\n",
       "      <td>Rajasthan Royals</td>\n",
       "    </tr>\n",
       "    <tr>\n",
       "      <th>173</th>\n",
       "      <td>2009</td>\n",
       "      <td>Deccan Chargers</td>\n",
       "    </tr>\n",
       "    <tr>\n",
       "      <th>233</th>\n",
       "      <td>2010</td>\n",
       "      <td>Chennai Super Kings</td>\n",
       "    </tr>\n",
       "    <tr>\n",
       "      <th>306</th>\n",
       "      <td>2011</td>\n",
       "      <td>Chennai Super Kings</td>\n",
       "    </tr>\n",
       "    <tr>\n",
       "      <th>380</th>\n",
       "      <td>2012</td>\n",
       "      <td>Kolkata Knight Riders</td>\n",
       "    </tr>\n",
       "    <tr>\n",
       "      <th>456</th>\n",
       "      <td>2013</td>\n",
       "      <td>Mumbai Indians</td>\n",
       "    </tr>\n",
       "    <tr>\n",
       "      <th>516</th>\n",
       "      <td>2014</td>\n",
       "      <td>Kolkata Knight Riders</td>\n",
       "    </tr>\n",
       "    <tr>\n",
       "      <th>575</th>\n",
       "      <td>2015</td>\n",
       "      <td>Mumbai Indians</td>\n",
       "    </tr>\n",
       "    <tr>\n",
       "      <th>635</th>\n",
       "      <td>2016</td>\n",
       "      <td>Sunrisers Hyderabad</td>\n",
       "    </tr>\n",
       "    <tr>\n",
       "      <th>58</th>\n",
       "      <td>2017</td>\n",
       "      <td>Mumbai Indians</td>\n",
       "    </tr>\n",
       "  </tbody>\n",
       "</table>\n",
       "</div>"
      ],
      "text/plain": [
       "     season                 winner\n",
       "116    2008       Rajasthan Royals\n",
       "173    2009        Deccan Chargers\n",
       "233    2010    Chennai Super Kings\n",
       "306    2011    Chennai Super Kings\n",
       "380    2012  Kolkata Knight Riders\n",
       "456    2013         Mumbai Indians\n",
       "516    2014  Kolkata Knight Riders\n",
       "575    2015         Mumbai Indians\n",
       "635    2016    Sunrisers Hyderabad\n",
       "58     2017         Mumbai Indians"
      ]
     },
     "execution_count": 12,
     "metadata": {},
     "output_type": "execute_result"
    }
   ],
   "source": [
    "winners=match.sort_values([\"season\",\"date\"],ascending=[True,False]).drop_duplicates(subset=[\"season\"])[[\"season\",\"winner\"]]\n",
    "winners"
   ]
  },
  {
   "cell_type": "code",
   "execution_count": 13,
   "id": "82f0b9a2",
   "metadata": {},
   "outputs": [
    {
     "data": {
      "text/plain": [
       "<BarContainer object of 6 artists>"
      ]
     },
     "execution_count": 13,
     "metadata": {},
     "output_type": "execute_result"
    },
    {
     "data": {
      "image/png": "[encoded data removed]",
      "text/plain": [
       "<Figure size 432x288 with 1 Axes>"
      ]
     },
     "metadata": {},
     "output_type": "display_data"
    }
   ],
   "source": [
    "l1=winners['winner'].value_counts().index.tolist()\n",
    "l=winners['winner'].value_counts().tolist()\n",
    "plt.barh(l1,l)"
   ]
  },
  {
   "cell_type": "markdown",
   "id": "8b39d979",
   "metadata": {},
   "source": [
    "# Conclusion:\n",
    "Mumbai indians has won most ipl trophies"
   ]
  },
  {
   "cell_type": "markdown",
   "id": "d145c151",
   "metadata": {},
   "source": [
    "#  Information about 2nd Data set"
   ]
  },
  {
   "cell_type": "code",
   "execution_count": 15,
   "id": "6498b429",
   "metadata": {},
   "outputs": [
    {
     "data": {
      "text/html": [
       "<div>\n",
       "<style scoped>\n",
       "    .dataframe tbody tr th:only-of-type {\n",
       "        vertical-align: middle;\n",
       "    }\n",
       "\n",
       "    .dataframe tbody tr th {\n",
       "        vertical-align: top;\n",
       "    }\n",
       "\n",
       "    .dataframe thead th {\n",
       "        text-align: right;\n",
       "    }\n",
       "</style>\n",
       "<table border=\"1\" class=\"dataframe\">\n",
       "  <thead>\n",
       "    <tr style=\"text-align: right;\">\n",
       "      <th></th>\n",
       "      <th>match_id</th>\n",
       "      <th>inning</th>\n",
       "      <th>batting_team</th>\n",
       "      <th>bowling_team</th>\n",
       "      <th>over</th>\n",
       "      <th>ball</th>\n",
       "      <th>batsman</th>\n",
       "      <th>non_striker</th>\n",
       "      <th>bowler</th>\n",
       "      <th>is_super_over</th>\n",
       "      <th>...</th>\n",
       "      <th>bye_runs</th>\n",
       "      <th>legbye_runs</th>\n",
       "      <th>noball_runs</th>\n",
       "      <th>penalty_runs</th>\n",
       "      <th>batsman_runs</th>\n",
       "      <th>extra_runs</th>\n",
       "      <th>total_runs</th>\n",
       "      <th>player_dismissed</th>\n",
       "      <th>dismissal_kind</th>\n",
       "      <th>fielder</th>\n",
       "    </tr>\n",
       "  </thead>\n",
       "  <tbody>\n",
       "    <tr>\n",
       "      <th>0</th>\n",
       "      <td>1</td>\n",
       "      <td>1</td>\n",
       "      <td>Sunrisers Hyderabad</td>\n",
       "      <td>Royal Challengers Bangalore</td>\n",
       "      <td>1</td>\n",
       "      <td>1</td>\n",
       "      <td>DA Warner</td>\n",
       "      <td>S Dhawan</td>\n",
       "      <td>TS Mills</td>\n",
       "      <td>0</td>\n",
       "      <td>...</td>\n",
       "      <td>0</td>\n",
       "      <td>0</td>\n",
       "      <td>0</td>\n",
       "      <td>0</td>\n",
       "      <td>0</td>\n",
       "      <td>0</td>\n",
       "      <td>0</td>\n",
       "      <td>NaN</td>\n",
       "      <td>NaN</td>\n",
       "      <td>NaN</td>\n",
       "    </tr>\n",
       "    <tr>\n",
       "      <th>1</th>\n",
       "      <td>1</td>\n",
       "      <td>1</td>\n",
       "      <td>Sunrisers Hyderabad</td>\n",
       "      <td>Royal Challengers Bangalore</td>\n",
       "      <td>1</td>\n",
       "      <td>2</td>\n",
       "      <td>DA Warner</td>\n",
       "      <td>S Dhawan</td>\n",
       "      <td>TS Mills</td>\n",
       "      <td>0</td>\n",
       "      <td>...</td>\n",
       "      <td>0</td>\n",
       "      <td>0</td>\n",
       "      <td>0</td>\n",
       "      <td>0</td>\n",
       "      <td>0</td>\n",
       "      <td>0</td>\n",
       "      <td>0</td>\n",
       "      <td>NaN</td>\n",
       "      <td>NaN</td>\n",
       "      <td>NaN</td>\n",
       "    </tr>\n",
       "    <tr>\n",
       "      <th>2</th>\n",
       "      <td>1</td>\n",
       "      <td>1</td>\n",
       "      <td>Sunrisers Hyderabad</td>\n",
       "      <td>Royal Challengers Bangalore</td>\n",
       "      <td>1</td>\n",
       "      <td>3</td>\n",
       "      <td>DA Warner</td>\n",
       "      <td>S Dhawan</td>\n",
       "      <td>TS Mills</td>\n",
       "      <td>0</td>\n",
       "      <td>...</td>\n",
       "      <td>0</td>\n",
       "      <td>0</td>\n",
       "      <td>0</td>\n",
       "      <td>0</td>\n",
       "      <td>4</td>\n",
       "      <td>0</td>\n",
       "      <td>4</td>\n",
       "      <td>NaN</td>\n",
       "      <td>NaN</td>\n",
       "      <td>NaN</td>\n",
       "    </tr>\n",
       "    <tr>\n",
       "      <th>3</th>\n",
       "      <td>1</td>\n",
       "      <td>1</td>\n",
       "      <td>Sunrisers Hyderabad</td>\n",
       "      <td>Royal Challengers Bangalore</td>\n",
       "      <td>1</td>\n",
       "      <td>4</td>\n",
       "      <td>DA Warner</td>\n",
       "      <td>S Dhawan</td>\n",
       "      <td>TS Mills</td>\n",
       "      <td>0</td>\n",
       "      <td>...</td>\n",
       "      <td>0</td>\n",
       "      <td>0</td>\n",
       "      <td>0</td>\n",
       "      <td>0</td>\n",
       "      <td>0</td>\n",
       "      <td>0</td>\n",
       "      <td>0</td>\n",
       "      <td>NaN</td>\n",
       "      <td>NaN</td>\n",
       "      <td>NaN</td>\n",
       "    </tr>\n",
       "    <tr>\n",
       "      <th>4</th>\n",
       "      <td>1</td>\n",
       "      <td>1</td>\n",
       "      <td>Sunrisers Hyderabad</td>\n",
       "      <td>Royal Challengers Bangalore</td>\n",
       "      <td>1</td>\n",
       "      <td>5</td>\n",
       "      <td>DA Warner</td>\n",
       "      <td>S Dhawan</td>\n",
       "      <td>TS Mills</td>\n",
       "      <td>0</td>\n",
       "      <td>...</td>\n",
       "      <td>0</td>\n",
       "      <td>0</td>\n",
       "      <td>0</td>\n",
       "      <td>0</td>\n",
       "      <td>0</td>\n",
       "      <td>2</td>\n",
       "      <td>2</td>\n",
       "      <td>NaN</td>\n",
       "      <td>NaN</td>\n",
       "      <td>NaN</td>\n",
       "    </tr>\n",
       "  </tbody>\n",
       "</table>\n",
       "<p>5 rows × 21 columns</p>\n",
       "</div>"
      ],
      "text/plain": [
       "   match_id  inning         batting_team                 bowling_team  over  \\\n",
       "0         1       1  Sunrisers Hyderabad  Royal Challengers Bangalore     1   \n",
       "1         1       1  Sunrisers Hyderabad  Royal Challengers Bangalore     1   \n",
       "2         1       1  Sunrisers Hyderabad  Royal Challengers Bangalore     1   \n",
       "3         1       1  Sunrisers Hyderabad  Royal Challengers Bangalore     1   \n",
       "4         1       1  Sunrisers Hyderabad  Royal Challengers Bangalore     1   \n",
       "\n",
       "   ball    batsman non_striker    bowler  is_super_over  ...  bye_runs  \\\n",
       "0     1  DA Warner    S Dhawan  TS Mills              0  ...         0   \n",
       "1     2  DA Warner    S Dhawan  TS Mills              0  ...         0   \n",
       "2     3  DA Warner    S Dhawan  TS Mills              0  ...         0   \n",
       "3     4  DA Warner    S Dhawan  TS Mills              0  ...         0   \n",
       "4     5  DA Warner    S Dhawan  TS Mills              0  ...         0   \n",
       "\n",
       "   legbye_runs  noball_runs  penalty_runs  batsman_runs  extra_runs  \\\n",
       "0            0            0             0             0           0   \n",
       "1            0            0             0             0           0   \n",
       "2            0            0             0             4           0   \n",
       "3            0            0             0             0           0   \n",
       "4            0            0             0             0           2   \n",
       "\n",
       "   total_runs  player_dismissed dismissal_kind fielder  \n",
       "0           0               NaN            NaN     NaN  \n",
       "1           0               NaN            NaN     NaN  \n",
       "2           4               NaN            NaN     NaN  \n",
       "3           0               NaN            NaN     NaN  \n",
       "4           2               NaN            NaN     NaN  \n",
       "\n",
       "[5 rows x 21 columns]"
      ]
     },
     "execution_count": 15,
     "metadata": {},
     "output_type": "execute_result"
    }
   ],
   "source": [
    "delivery.head()"
   ]
  },
  {
   "cell_type": "code",
   "execution_count": 16,
   "id": "44202feb",
   "metadata": {},
   "outputs": [
    {
     "name": "stdout",
     "output_type": "stream",
     "text": [
      "<class 'pandas.core.frame.DataFrame'>\n",
      "RangeIndex: 150460 entries, 0 to 150459\n",
      "Data columns (total 21 columns):\n",
      " #   Column            Non-Null Count   Dtype \n",
      "---  ------            --------------   ----- \n",
      " 0   match_id          150460 non-null  int64 \n",
      " 1   inning            150460 non-null  int64 \n",
      " 2   batting_team      150460 non-null  object\n",
      " 3   bowling_team      150460 non-null  object\n",
      " 4   over              150460 non-null  int64 \n",
      " 5   ball              150460 non-null  int64 \n",
      " 6   batsman           150460 non-null  object\n",
      " 7   non_striker       150460 non-null  object\n",
      " 8   bowler            150460 non-null  object\n",
      " 9   is_super_over     150460 non-null  int64 \n",
      " 10  wide_runs         150460 non-null  int64 \n",
      " 11  bye_runs          150460 non-null  int64 \n",
      " 12  legbye_runs       150460 non-null  int64 \n",
      " 13  noball_runs       150460 non-null  int64 \n",
      " 14  penalty_runs      150460 non-null  int64 \n",
      " 15  batsman_runs      150460 non-null  int64 \n",
      " 16  extra_runs        150460 non-null  int64 \n",
      " 17  total_runs        150460 non-null  int64 \n",
      " 18  player_dismissed  7438 non-null    object\n",
      " 19  dismissal_kind    7438 non-null    object\n",
      " 20  fielder           5369 non-null    object\n",
      "dtypes: int64(13), object(8)\n",
      "memory usage: 24.1+ MB\n"
     ]
    }
   ],
   "source": [
    "delivery.info()"
   ]
  },
  {
   "cell_type": "markdown",
   "id": "054e3d0d",
   "metadata": {},
   "source": [
    "# Merging two tables for answering questions"
   ]
  },
  {
   "cell_type": "code",
   "execution_count": 67,
   "id": "248142fe",
   "metadata": {},
   "outputs": [
    {
     "data": {
      "text/plain": [
       "Index(['id', 'season', 'city', 'date', 'team1', 'team2', 'toss_winner',\n",
       "       'toss_decision', 'result', 'dl_applied', 'winner', 'win_by_runs',\n",
       "       'win_by_wickets', 'player_of_match', 'venue', 'umpire1', 'umpire2',\n",
       "       'umpire3', 'match_id', 'inning', 'batting_team', 'bowling_team', 'over',\n",
       "       'ball', 'batsman', 'non_striker', 'bowler', 'is_super_over',\n",
       "       'wide_runs', 'bye_runs', 'legbye_runs', 'noball_runs', 'penalty_runs',\n",
       "       'batsman_runs', 'extra_runs', 'total_runs', 'player_dismissed',\n",
       "       'dismissal_kind', 'fielder'],\n",
       "      dtype='object')"
      ]
     },
     "execution_count": 67,
     "metadata": {},
     "output_type": "execute_result"
    }
   ],
   "source": [
    "ipl=match.merge(delivery,left_on='id',right_on='match_id')\n",
    "ipl.columns"
   ]
  },
  {
   "cell_type": "markdown",
   "id": "27cc85f1",
   "metadata": {},
   "source": [
    "# Top 10 Batsman of all time:\n",
    "Decided on the basis of total runs scored in all seasons"
   ]
  },
  {
   "cell_type": "code",
   "execution_count": 25,
   "id": "4a08bbd1",
   "metadata": {},
   "outputs": [
    {
     "data": {
      "text/plain": [
       "batsman\n",
       "SK Raina          4548\n",
       "V Kohli           4423\n",
       "RG Sharma         4207\n",
       "G Gambhir         4132\n",
       "DA Warner         4014\n",
       "RV Uthappa        3778\n",
       "CH Gayle          3651\n",
       "S Dhawan          3561\n",
       "MS Dhoni          3560\n",
       "AB de Villiers    3486\n",
       "Name: batsman_runs, dtype: int64"
      ]
     },
     "execution_count": 25,
     "metadata": {},
     "output_type": "execute_result"
    }
   ],
   "source": [
    "top10=ipl.groupby('batsman')['batsman_runs'].sum().sort_values(ascending=False).head(10)\n",
    "name=top10.index.tolist()\n",
    "runs=top10.values\n",
    "top10"
   ]
  },
  {
   "cell_type": "code",
   "execution_count": 30,
   "id": "92d2fe25",
   "metadata": {},
   "outputs": [
    {
     "data": {
      "text/plain": [
       "<BarContainer object of 10 artists>"
      ]
     },
     "execution_count": 30,
     "metadata": {},
     "output_type": "execute_result"
    },
    {
     "data": {
      "image/png": "[encoded data removed]",
      "text/plain": [
       "<Figure size 432x288 with 1 Axes>"
      ]
     },
     "metadata": {},
     "output_type": "display_data"
    }
   ],
   "source": [
    "plt.style.use('fast')\n",
    "plt.barh(name,runs)"
   ]
  },
  {
   "cell_type": "markdown",
   "id": "e6795098",
   "metadata": {},
   "source": [
    "#  Conclusion:\n",
    "Suresh Raina has scored most runs in IPL\n"
   ]
  },
  {
   "cell_type": "markdown",
   "id": "9626bcfd",
   "metadata": {},
   "source": [
    "# Most Sixes by Batsman:\n"
   ]
  },
  {
   "cell_type": "code",
   "execution_count": 37,
   "id": "a084abfa",
   "metadata": {},
   "outputs": [
    {
     "data": {
      "text/plain": [
       "batsman\n",
       "CH Gayle     266\n",
       "SK Raina     174\n",
       "RG Sharma    173\n",
       "V Kohli      160\n",
       "DA Warner    160\n",
       "Name: batsman_runs, dtype: int64"
      ]
     },
     "execution_count": 37,
     "metadata": {},
     "output_type": "execute_result"
    }
   ],
   "source": [
    "top6=ipl[ipl['batsman_runs']==6].groupby('batsman')['batsman_runs'].count().sort_values(ascending=False).head()\n",
    "name=top6.index.tolist()\n",
    "runs=top6.values\n",
    "top6"
   ]
  },
  {
   "cell_type": "code",
   "execution_count": 38,
   "id": "6d35ecc0",
   "metadata": {},
   "outputs": [
    {
     "data": {
      "text/plain": [
       "<BarContainer object of 5 artists>"
      ]
     },
     "execution_count": 38,
     "metadata": {},
     "output_type": "execute_result"
    },
    {
     "data": {
      "image/png": "[encoded data removed]",
      "text/plain": [
       "<Figure size 432x288 with 1 Axes>"
      ]
     },
     "metadata": {},
     "output_type": "display_data"
    }
   ],
   "source": [
    "plt.style.use('fast')\n",
    "plt.barh(name,runs)"
   ]
  },
  {
   "cell_type": "markdown",
   "id": "8f330455",
   "metadata": {},
   "source": [
    "# Top5 Bowlers who took most wickets:\n"
   ]
  },
  {
   "cell_type": "code",
   "execution_count": 60,
   "id": "da9a68f5",
   "metadata": {},
   "outputs": [
    {
     "data": {
      "text/plain": [
       "bowler\n",
       "A Mishra           150\n",
       "PP Chawla          135\n",
       "Harbhajan Singh    114\n",
       "RA Jadeja          109\n",
       "P Kumar            104\n",
       "Name: batsman_runs, dtype: int64"
      ]
     },
     "execution_count": 60,
     "metadata": {},
     "output_type": "execute_result"
    }
   ],
   "source": [
    "top5bol=ipl[ipl['batsman_runs']==6].groupby('bowler')['batsman_runs'].count().sort_values(ascending=False).head()\n",
    "name=top5bol.index.tolist()\n",
    "six=top5bol.values\n",
    "top5bol"
   ]
  },
  {
   "cell_type": "code",
   "execution_count": 61,
   "id": "633d2eff",
   "metadata": {},
   "outputs": [
    {
     "data": {
      "text/plain": [
       "<BarContainer object of 5 artists>"
      ]
     },
     "execution_count": 61,
     "metadata": {},
     "output_type": "execute_result"
    },
    {
     "data": {
      "image/png": "[encoded data removed]",
      "text/plain": [
       "<Figure size 432x288 with 1 Axes>"
      ]
     },
     "metadata": {},
     "output_type": "display_data"
    }
   ],
   "source": [
    "plt.style.use(\"fast\")\n",
    "plt.barh(name,six)\n"
   ]
  },
  {
   "cell_type": "code",
   "execution_count": 63,
   "id": "2f2b1988",
   "metadata": {},
   "outputs": [
    {
     "data": {
      "text/plain": [
       "bowler\n",
       "SB Joshi           5\n",
       "AF Milne           5\n",
       "DP Vijaykumar      5\n",
       "K Rabada           5\n",
       "AA Jhunjhunwala    5\n",
       "                  ..\n",
       "CJ McKay           1\n",
       "C Munro            1\n",
       "L Ablish           1\n",
       "C Ganapathy        1\n",
       "SA Abbott          1\n",
       "Name: batsman_runs, Length: 100, dtype: int64"
      ]
     },
     "execution_count": 63,
     "metadata": {},
     "output_type": "execute_result"
    }
   ],
   "source": [
    "ipl[ipl['batsman_runs']==6].groupby('bowler')['batsman_runs'].count().sort_values(ascending=False).tail(100)"
   ]
  },
  {
   "cell_type": "markdown",
   "id": "fc28cc4b",
   "metadata": {},
   "source": [
    "# Conclusion\n",
    "Only 5 time any batsman scored a six against Rabada\n",
    "\n",
    "Amit mishra gave maximum number of sixes"
   ]
  },
  {
   "cell_type": "markdown",
   "id": "51a67887",
   "metadata": {},
   "source": [
    "# Top 5  Most Destructive batsman in IpL:\n",
    "Calculated on the basis of strike rate in death overs\n",
    "\n",
    "Batsman has played atleast 200 balls in death overs"
   ]
  },
  {
   "cell_type": "code",
   "execution_count": 86,
   "id": "193a7ec3",
   "metadata": {},
   "outputs": [
    {
     "data": {
      "text/plain": [
       "batsman\n",
       "A Mishra             225\n",
       "AB de Villiers       570\n",
       "AD Mathews           289\n",
       "AM Rahane            268\n",
       "AR Patel             229\n",
       "AT Rayudu            425\n",
       "BJ Hodge             385\n",
       "DA Miller            360\n",
       "DA Warner            228\n",
       "DJ Bravo             409\n",
       "DJ Hussey            234\n",
       "DPMD Jayawardene     246\n",
       "Harbhajan Singh      418\n",
       "IK Pathan            465\n",
       "JA Morkel            425\n",
       "JH Kallis            231\n",
       "JP Duminy            518\n",
       "JP Faulkner          294\n",
       "KA Pollard           838\n",
       "KD Karthik           463\n",
       "KM Jadhav            338\n",
       "LRPL Taylor          204\n",
       "MK Pandey            224\n",
       "MK Tiwary            423\n",
       "MS Dhoni            1224\n",
       "NV Ojha              304\n",
       "P Kumar              268\n",
       "PP Chawla            311\n",
       "R Vinay Kumar        235\n",
       "RA Jadeja            576\n",
       "RG Sharma            748\n",
       "RV Uthappa           275\n",
       "S Badrinath          283\n",
       "S Dhawan             243\n",
       "SK Raina             458\n",
       "SPD Smith            316\n",
       "SS Tiwary            300\n",
       "STR Binny            218\n",
       "V Kohli              546\n",
       "WP Saha              295\n",
       "Y Venugopal Rao      260\n",
       "YK Pathan            584\n",
       "Yuvraj Singh         516\n",
       "Name: batsman_runs, dtype: int64"
      ]
     },
     "execution_count": 86,
     "metadata": {},
     "output_type": "execute_result"
    }
   ],
   "source": [
    "#creating a new data set for 15-20 overs\n",
    "series=ipl[ipl['over']>15].groupby('batsman')['batsman_runs'].count()\n",
    "series[series.values>200]\n",
    "\n"
   ]
  }
 ],
 "metadata": {
  "kernelspec": {
   "display_name": "Python 3 (ipykernel)",
   "language": "python",
   "name": "python3"
  },
  "language_info": {
   "codemirror_mode": {
    "name": "ipython",
    "version": 3
   },
   "file_extension": ".py",
   "mimetype": "text/x-python",
   "name": "python",
   "nbconvert_exporter": "python",
   "pygments_lexer": "ipython3",
   "version": "3.10.0"
  }
 },
 "nbformat": 4,
 "nbformat_minor": 5
}
